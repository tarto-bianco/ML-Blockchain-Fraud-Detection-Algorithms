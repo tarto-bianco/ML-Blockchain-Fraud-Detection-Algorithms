{
 "cells": [
  {
   "cell_type": "code",
   "execution_count": null,
   "id": "4d3f41d2",
   "metadata": {},
   "outputs": [],
   "source": [
    "import pandas as pd\n",
    "import numpy as np\n",
    "from sklearn.preprocessing import LabelEncoder\n",
    "from sklearn.naive_bayes import GaussianNB\n",
    "from sklearn.model_selection import train_test_split"
   ]
  },
  {
   "cell_type": "markdown",
   "id": "08b6987b",
   "metadata": {},
   "source": [
    "Our original findings show that our data is actually arbitrary. With a 50% Naive Bayes Classification rate. So for a crucial and critical part of our data preprocessing, we must assign a meaningful and random weights/points system to assign to our binary fraud label. We're going to do this and save it to a new dataset labeled \"trust_chain_dataset_predictive.csv\" Our methodology for this weight system is to assign a points threshold based on logically predictive measures such as overdue payment and time to delivery metrics. We will assign randomness to our points system with a uniform points distribution so our models do not easily learn our methodolgy that you may have otherwise using a static points system."
   ]
  },
  {
   "cell_type": "code",
   "execution_count": null,
   "id": "17b4a47f",
   "metadata": {},
   "outputs": [
    {
     "name": "stdout",
     "output_type": "stream",
     "text": [
      "New fraud distribution:\n",
      "Fraud Indicator\n",
      "0    7758\n",
      "1    2590\n",
      "Name: count, dtype: int64\n",
      "\n",
      "Fraud rate: 25.0%\n"
     ]
    }
   ],
   "source": [
    "blockData = pd.read_csv(\"trust_chain_dataset.csv\")\n",
    "\n",
    "def assign_fraud(row):\n",
    "    fraud_score = 0\n",
    "\n",
    "    if row['Payment Status'] == 'Overdue':\n",
    "        fraud_score += np.random.uniform(2.5, 3.5)\n",
    "    if row['Quantity Mismatch'] > 10:\n",
    "        fraud_score += np.random.uniform(1.5, 2.5)\n",
    "    if row['Order Status'] == 'Pending' and row['Payment Status'] == 'Overdue':\n",
    "        fraud_score += np.random.uniform(1.5, 2.5)\n",
    "    if row['Time to Delivery'] > 7 and row['Payment Status'] == 'Overdue':\n",
    "        fraud_score += np.random.uniform(1.5, 2.5)\n",
    "    if row['Smart Contract Status'] == 'Triggered':\n",
    "        fraud_score += np.random.uniform(0.5, 1.5)\n",
    "    if row['Compliance Check'] == 0:\n",
    "        fraud_score += np.random.uniform(1.5, 2.5)\n",
    "    if row['Order Amount'] > 2500:\n",
    "        fraud_score += np.random.uniform(0.5, 1.5)\n",
    "\n",
    "    fraud_score += np.random.uniform(-1, 1)\n",
    "    threshold = np.random.uniform(5.5, 6.5)\n",
    "    return 1 if fraud_score >= threshold else 0\n",
    "\n",
    "\n",
    "blockData['Fraud Indicator'] = blockData.apply(assign_fraud, axis=1) #apply logic\n",
    "blockData.to_csv(\"trust_chain_dataset_predictive.csv\", index=False) #save dataset\n",
    "\n",
    "print(\"New fraud distribution:\")\n",
    "print(blockData['Fraud Indicator'].value_counts())\n",
    "print(f\"\\nFraud rate: {blockData['Fraud Indicator'].mean():.1%}\")"
   ]
  }
 ],
 "metadata": {
  "kernelspec": {
   "display_name": ".venv",
   "language": "python",
   "name": "python3"
  },
  "language_info": {
   "codemirror_mode": {
    "name": "ipython",
    "version": 3
   },
   "file_extension": ".py",
   "mimetype": "text/x-python",
   "name": "python",
   "nbconvert_exporter": "python",
   "pygments_lexer": "ipython3",
   "version": "3.13.2"
  }
 },
 "nbformat": 4,
 "nbformat_minor": 5
}
